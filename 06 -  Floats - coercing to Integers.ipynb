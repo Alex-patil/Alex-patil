{
 "cells": [
  {
   "cell_type": "markdown",
   "id": "0410d375",
   "metadata": {},
   "source": [
    "Coercing Floats to Intergers Truncations"
   ]
  },
  {
   "cell_type": "code",
   "execution_count": 1,
   "id": "5113be33",
   "metadata": {},
   "outputs": [],
   "source": [
    "from math import trunc"
   ]
  },
  {
   "cell_type": "code",
   "execution_count": 2,
   "id": "e2d09a2d",
   "metadata": {},
   "outputs": [
    {
     "data": {
      "text/plain": [
       "(10, 10, 10)"
      ]
     },
     "execution_count": 2,
     "metadata": {},
     "output_type": "execute_result"
    }
   ],
   "source": [
    "trunc(10.3), trunc(10.5), trunc(10.6)"
   ]
  },
  {
   "cell_type": "code",
   "execution_count": 4,
   "id": "eb188d9b",
   "metadata": {},
   "outputs": [
    {
     "data": {
      "text/plain": [
       "(-10, -10, -10)"
      ]
     },
     "execution_count": 4,
     "metadata": {},
     "output_type": "execute_result"
    }
   ],
   "source": [
    "trunc(-10.3), trunc(-10.5), trunc(-10.6)"
   ]
  },
  {
   "cell_type": "code",
   "execution_count": 5,
   "id": "8a64e410",
   "metadata": {},
   "outputs": [
    {
     "data": {
      "text/plain": [
       "(10, 10, 10)"
      ]
     },
     "execution_count": 5,
     "metadata": {},
     "output_type": "execute_result"
    }
   ],
   "source": [
    "int(10.3), int(10.5), int(10.6)"
   ]
  },
  {
   "cell_type": "code",
   "execution_count": 6,
   "id": "eb96dffc",
   "metadata": {},
   "outputs": [
    {
     "data": {
      "text/plain": [
       "(-10, -10, -10)"
      ]
     },
     "execution_count": 6,
     "metadata": {},
     "output_type": "execute_result"
    }
   ],
   "source": [
    "int(-10.5),int(-10.7), int(-10.9)"
   ]
  },
  {
   "cell_type": "code",
   "execution_count": 7,
   "id": "c24a47c1",
   "metadata": {},
   "outputs": [],
   "source": [
    "from math import floor"
   ]
  },
  {
   "cell_type": "code",
   "execution_count": 8,
   "id": "5fa376cc",
   "metadata": {},
   "outputs": [
    {
     "data": {
      "text/plain": [
       "(10, 10, 10)"
      ]
     },
     "execution_count": 8,
     "metadata": {},
     "output_type": "execute_result"
    }
   ],
   "source": [
    "floor(10.4), floor(10.6), floor(10.9)"
   ]
  },
  {
   "cell_type": "code",
   "execution_count": 9,
   "id": "20f0b6aa",
   "metadata": {},
   "outputs": [],
   "source": [
    "from math import ceil"
   ]
  },
  {
   "cell_type": "code",
   "execution_count": 10,
   "id": "1e41be06",
   "metadata": {},
   "outputs": [
    {
     "data": {
      "text/plain": [
       "(11, 11, 11)"
      ]
     },
     "execution_count": 10,
     "metadata": {},
     "output_type": "execute_result"
    }
   ],
   "source": [
    "ceil(10.4),ceil(10.5),ceil(10.7)"
   ]
  },
  {
   "cell_type": "code",
   "execution_count": 11,
   "id": "02c1425a",
   "metadata": {},
   "outputs": [
    {
     "data": {
      "text/plain": [
       "(-10, -10, -10)"
      ]
     },
     "execution_count": 11,
     "metadata": {},
     "output_type": "execute_result"
    }
   ],
   "source": [
    "ceil(-10.4), ceil(-10.5), ceil(-10.6)"
   ]
  }
 ],
 "metadata": {
  "kernelspec": {
   "display_name": "Python 3 (ipykernel)",
   "language": "python",
   "name": "python3"
  },
  "language_info": {
   "codemirror_mode": {
    "name": "ipython",
    "version": 3
   },
   "file_extension": ".py",
   "mimetype": "text/x-python",
   "name": "python",
   "nbconvert_exporter": "python",
   "pygments_lexer": "ipython3",
   "version": "3.9.12"
  }
 },
 "nbformat": 4,
 "nbformat_minor": 5
}
