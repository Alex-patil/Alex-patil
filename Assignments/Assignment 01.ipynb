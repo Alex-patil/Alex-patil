{
 "cells": [
  {
   "cell_type": "code",
   "execution_count": 1,
   "id": "e46eb6a0",
   "metadata": {},
   "outputs": [
    {
     "name": "stdout",
     "output_type": "stream",
     "text": [
      "First array:\n",
      "[[8.08159737e-01 5.52191371e-01 2.04390378e-04]\n",
      " [7.74176121e-01 2.39173352e-01 6.64829405e-01]\n",
      " [1.71575072e-01 8.94913840e-01 8.73119544e-01]\n",
      " [2.67939702e-02 7.91266714e-01 9.21924134e-01]\n",
      " [8.03745936e-01 2.64488599e-01 5.12674382e-01]]\n",
      "---------------\n",
      "Second array:\n",
      "[[0.91741851 0.05327961]\n",
      " [0.7225952  0.71132591]\n",
      " [0.57465454 0.18432741]]\n",
      "----------------\n",
      "Dot product of two arrays:\n",
      "[[1.14054899 0.43588414]\n",
      " [1.26511626 0.33392428]\n",
      " [1.3058087  0.80665672]\n",
      " [1.1261347  0.73421198]\n",
      " [1.22310025 0.3254608 ]]\n"
     ]
    }
   ],
   "source": [
    "## Write a Python program to multiply a 𝑀 × 𝑁 matrix by 𝑁 × 𝐴 matrix and\n",
    "#create a real matrix product.\n",
    "\n",
    "import numpy as np\n",
    "M = np.random.random((5,3))\n",
    "print(\"First array:\")\n",
    "print(M)\n",
    "print(\"---------------\")\n",
    "N = np.random.random((3,2))\n",
    "print(\"Second array:\")\n",
    "print(N)\n",
    "print('----------------')\n",
    "A = np.dot(M,N)\n",
    "print(\"Dot product of two arrays:\")\n",
    "print(A)"
   ]
  },
  {
   "cell_type": "code",
   "execution_count": 2,
   "id": "a45baf66",
   "metadata": {},
   "outputs": [
    {
     "name": "stdout",
     "output_type": "stream",
     "text": [
      "\n",
      "Original Array:\n",
      "['Python' 'PHP' 'JS' 'Examples' 'html5' '5']\n",
      "Digit only       = [False False False False False  True]\n",
      "Lower cases only = [False False False False  True False]\n",
      "Upper cases only = [False  True  True False False False]\n"
     ]
    },
    {
     "name": "stderr",
     "output_type": "stream",
     "text": [
      "C:\\Users\\suraj\\AppData\\Local\\Temp\\ipykernel_4528\\967194723.py:5: DeprecationWarning: `np.str` is a deprecated alias for the builtin `str`. To silence this warning, use `str` by itself. Doing this will not modify any behavior and is safe. If you specifically wanted the numpy scalar type, use `np.str_` here.\n",
      "Deprecated in NumPy 1.20; for more details and guidance: https://numpy.org/devdocs/release/1.20.0-notes.html#deprecations\n",
      "  x = np.array(['Python' ,'PHP' ,'JS' , 'Examples' , 'html5' , '5'], dtype=np.str)\n"
     ]
    }
   ],
   "source": [
    "#Write a NumPy program to check if each element of an array of your choice is\n",
    "#composed of digits, lower case letters, and upper case letters only.\n",
    "\n",
    "import numpy as np\n",
    "x = np.array(['Python' ,'PHP' ,'JS' , 'Examples' , 'html5' , '5'], dtype=np.str)\n",
    "print(\"\\nOriginal Array:\")\n",
    "print(x)\n",
    "s1 = np.char.isdigit(x)\n",
    "s2 = np.char.islower(x)\n",
    "s3 = np.char.isupper(x)\n",
    "\n",
    "print(\"Digit only       =\",s1)\n",
    "print(\"Lower cases only =\",s2)\n",
    "print(\"Upper cases only =\",s3)\n",
    "\n"
   ]
  },
  {
   "cell_type": "code",
   "execution_count": null,
   "id": "d1866690",
   "metadata": {},
   "outputs": [
    {
     "name": "stdout",
     "output_type": "stream",
     "text": [
      "Enter two values:7\n",
      "Enter two values:9\n",
      "['7']\n",
      "['9'] \n",
      "\n",
      "[  0   7  14  21  28  35  42  49  56  63  70  77  84  91  98 105]7\n"
     ]
    }
   ],
   "source": [
    "## 3: Write a program that reads two space-separated positive integers 𝑋 and\n",
    "## 𝑌 as input and perform the following tasks:\n",
    "\n",
    "import numpy as np\n",
    "X = input(\"Enter two values:\").split()\n",
    "Y = input(\"Enter two values:\").split()\n",
    "print(X)\n",
    "print(Y,'\\n')\n",
    "lst1 = int(input(np.arange(0,112,7)))\n",
    "lst2 = int(input(np.arange(0,144,9)))\n",
    "print(lst1)\n",
    "print(lst2,'\\n')\n",
    "np1 = np.array(lst1.reshape(4,4))\n",
    "np2 = np.array(lst2.reshape(4,4))\n",
    "print(np1)\n",
    "print(np2,'\\n')\n",
    "np3 = np1-np2\n",
    "print(np3,end=\"\")\n",
    "print(np3.reshape(1,16))"
   ]
  },
  {
   "cell_type": "code",
   "execution_count": 5,
   "id": "9b45354d",
   "metadata": {},
   "outputs": [
    {
     "name": "stdout",
     "output_type": "stream",
     "text": [
      "Original arrays:\n",
      "9\n",
      "9\n"
     ]
    },
    {
     "data": {
      "text/plain": [
       "array([[0, 1, 2],\n",
       "       [3, 4, 5],\n",
       "       [6, 7, 8]])"
      ]
     },
     "execution_count": 5,
     "metadata": {},
     "output_type": "execute_result"
    }
   ],
   "source": [
    "##4: Write a Python program that takes two integer-NumPy arrays, 𝑃 and 𝑄 of\n",
    "## shape [3 ∗ 3] and perform the following task:\n",
    "\n",
    "import numpy as np\n",
    "P = np.array(3 * 3)\n",
    "Q = np.array(3 * 3)\n",
    "print(\"Original arrays:\")\n",
    "print(P)\n",
    "print(Q)\n",
    "\n",
    "np.arange(3 * 3).reshape(3,3)"
   ]
  },
  {
   "cell_type": "code",
   "execution_count": null,
   "id": "53a7cb39",
   "metadata": {},
   "outputs": [],
   "source": []
  }
 ],
 "metadata": {
  "kernelspec": {
   "display_name": "Python 3 (ipykernel)",
   "language": "python",
   "name": "python3"
  },
  "language_info": {
   "codemirror_mode": {
    "name": "ipython",
    "version": 3
   },
   "file_extension": ".py",
   "mimetype": "text/x-python",
   "name": "python",
   "nbconvert_exporter": "python",
   "pygments_lexer": "ipython3",
   "version": "3.9.12"
  }
 },
 "nbformat": 4,
 "nbformat_minor": 5
}
